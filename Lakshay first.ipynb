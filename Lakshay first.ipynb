{
 "cells": [
  {
   "cell_type": "code",
   "execution_count": 16,
   "id": "13033990-d848-4644-bf46-79f4293bfacb",
   "metadata": {},
   "outputs": [
    {
     "name": "stdout",
     "output_type": "stream",
     "text": [
      "\n",
      "\tHello World\n"
     ]
    }
   ],
   "source": [
    "print (\"\\n\\tHello World\")"
   ]
  },
  {
   "cell_type": "code",
   "execution_count": 4,
   "id": "69aae19e-e6b2-4c9b-b288-a2c3df5422bf",
   "metadata": {},
   "outputs": [
    {
     "name": "stdout",
     "output_type": "stream",
     "text": [
      "3\n"
     ]
    }
   ],
   "source": [
    "a = 1;\n",
    "b = 2;\n",
    "print (a+b);"
   ]
  },
  {
   "cell_type": "code",
   "execution_count": null,
   "id": "2c4dbde7-60a0-476c-ac58-c0b99f7c78a3",
   "metadata": {},
   "outputs": [],
   "source": [
    "a = 5;\n",
    "b = 4;\n",
    "b += a\n",
    "print (b)"
   ]
  },
  {
   "cell_type": "markdown",
   "id": "e1232b3b-a931-4284-a122-63fe5f7058d9",
   "metadata": {},
   "source": [
    "First markdown"
   ]
  }
 ],
 "metadata": {
  "kernelspec": {
   "display_name": "Python",
   "language": "python",
   "name": "conda-env-python-py"
  },
  "language_info": {
   "codemirror_mode": {
    "name": "ipython",
    "version": 3
   },
   "file_extension": ".py",
   "mimetype": "text/x-python",
   "name": "python",
   "nbconvert_exporter": "python",
   "pygments_lexer": "ipython3",
   "version": "3.6.13"
  }
 },
 "nbformat": 4,
 "nbformat_minor": 5
}
